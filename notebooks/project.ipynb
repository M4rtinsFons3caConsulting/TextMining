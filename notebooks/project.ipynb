{
 "cells": [
  {
   "cell_type": "markdown",
   "id": "ff138c00",
   "metadata": {},
   "source": [
    "# **Stock Sentiment Analysis – Model Evaluation and Testing**\n",
    "\n",
    "This notebook investigates various machine learning techniques and models for sentiment analysis of stock-related tweets, with the objective of identifying the most effective model for accurate sentiment prediction. Its companion notebook — see TK — applies the selected model to the problem context to generate final predictions."
   ]
  },
  {
   "cell_type": "markdown",
   "id": "d73bcc2c",
   "metadata": {},
   "source": [
    "## 0. Imports"
   ]
  },
  {
   "cell_type": "code",
   "execution_count": 1,
   "id": "45a84905",
   "metadata": {},
   "outputs": [
    {
     "name": "stderr",
     "output_type": "stream",
     "text": [
      "/home/shadybea/anaconda3/envs/tm/lib/python3.12/site-packages/tqdm/auto.py:21: TqdmWarning: IProgress not found. Please update jupyter and ipywidgets. See https://ipywidgets.readthedocs.io/en/stable/user_install.html\n",
      "  from .autonotebook import tqdm as notebook_tqdm\n",
      "2025-06-14 15:04:35.258312: I tensorflow/core/util/port.cc:153] oneDNN custom operations are on. You may see slightly different numerical results due to floating-point round-off errors from different computation orders. To turn them off, set the environment variable `TF_ENABLE_ONEDNN_OPTS=0`.\n",
      "2025-06-14 15:04:35.271348: E external/local_xla/xla/stream_executor/cuda/cuda_fft.cc:467] Unable to register cuFFT factory: Attempting to register factory for plugin cuFFT when one has already been registered\n",
      "WARNING: All log messages before absl::InitializeLog() is called are written to STDERR\n",
      "E0000 00:00:1749909875.286739   16272 cuda_dnn.cc:8579] Unable to register cuDNN factory: Attempting to register factory for plugin cuDNN when one has already been registered\n",
      "E0000 00:00:1749909875.291352   16272 cuda_blas.cc:1407] Unable to register cuBLAS factory: Attempting to register factory for plugin cuBLAS when one has already been registered\n",
      "W0000 00:00:1749909875.303361   16272 computation_placer.cc:177] computation placer already registered. Please check linkage and avoid linking the same target more than once.\n",
      "W0000 00:00:1749909875.303394   16272 computation_placer.cc:177] computation placer already registered. Please check linkage and avoid linking the same target more than once.\n",
      "W0000 00:00:1749909875.303396   16272 computation_placer.cc:177] computation placer already registered. Please check linkage and avoid linking the same target more than once.\n",
      "W0000 00:00:1749909875.303397   16272 computation_placer.cc:177] computation placer already registered. Please check linkage and avoid linking the same target more than once.\n",
      "2025-06-14 15:04:35.307526: I tensorflow/core/platform/cpu_feature_guard.cc:210] This TensorFlow binary is optimized to use available CPU instructions in performance-critical operations.\n",
      "To enable the following instructions: AVX2 AVX512F AVX512_VNNI FMA, in other operations, rebuild TensorFlow with the appropriate compiler flags.\n"
     ]
    }
   ],
   "source": [
    "# Standard Library\n",
    "import os\n",
    "import re\n",
    "\n",
    "# Local Scripts\n",
    "os.chdir(\"../scripts\")\n",
    "\n",
    "# Constants\n",
    "from constants import (\n",
    "    TRAIN_DATA, \n",
    "    TEST_DATA, \n",
    "    LABELS, \n",
    "    DATA_DIR,\n",
    "    NLTK_DATA,\n",
    "    GENSIM_DATA\n",
    ") #type: ignore\n",
    "\n",
    "# Auxiliaries\n",
    "from aux_funcs import (\n",
    "    find_punctuated_tokens, \n",
    "    eval_sklearn_model, \n",
    "    eval_lstm_model,\n",
    "    eval_llm_model, \n",
    "    eval_transformer\n",
    ") #type: ignore\n",
    "\n",
    "# Data Preprocessor\n",
    "from preprocessor import preprocess #type: ignore\n",
    "\n",
    "# Local Classes\n",
    "os.chdir(\"../classes\")\n",
    "from classes import W2VVectorizer, CLSVectorizer, BERTVectorizer\n",
    "\n",
    "# Standard Data Visualization\n",
    "import pandas as pd\n",
    "import numpy as np\n",
    "import matplotlib.pyplot as plt\n",
    "import seaborn as sns\n",
    "\n",
    "# Wordclound Visualization\n",
    "from wordcloud import WordCloud\n",
    "\n",
    "# Modelling and modelling metrics\n",
    "from sklearn.feature_extraction.text import CountVectorizer\n",
    "from sklearn.model_selection import StratifiedKFold\n",
    "from sklearn.neighbors import KNeighborsClassifier\n",
    "from sklearn.metrics import classification_report, confusion_matrix\n",
    "\n",
    "# Transformers\n",
    "from transformers import AutoTokenizer, AutoModel\n",
    "\n",
    "# Natural Language ToolKit\n",
    "import nltk\n",
    "from nltk.corpus import stopwords\n",
    "from nltk.stem import SnowballStemmer\n",
    "from nltk.stem.wordnet import WordNetLemmatizer\n",
    "\n",
    "# General Similarity - NLP - Pre-trained Models\n",
    "from gensim.models import Word2Vec\n",
    "import gensim.downloader as api"
   ]
  },
  {
   "cell_type": "code",
   "execution_count": 2,
   "id": "935d1c9a",
   "metadata": {},
   "outputs": [],
   "source": [
    "# Download if not data not found\n",
    "if not os.path.isdir(NLTK_DATA):\n",
    "    nltk.download('stopwords', download_dir=NLTK_DATA)\n",
    "    nltk.download('wordnet', download_dir=NLTK_DATA)\n",
    "\n",
    "nltk.data.path.append(NLTK_DATA)"
   ]
  },
  {
   "cell_type": "markdown",
   "id": "17558b82",
   "metadata": {},
   "source": [
    "## 1. Data Loading"
   ]
  },
  {
   "cell_type": "code",
   "execution_count": 3,
   "id": "0ae08bec",
   "metadata": {},
   "outputs": [],
   "source": [
    "train_data = pd.read_csv(TRAIN_DATA)\n",
    "test_data = pd.read_csv(TEST_DATA)"
   ]
  },
  {
   "cell_type": "code",
   "execution_count": 4,
   "id": "8bd484c0",
   "metadata": {},
   "outputs": [
    {
     "data": {
      "application/vnd.microsoft.datawrangler.viewer.v0+json": {
       "columns": [
        {
         "name": "index",
         "rawType": "int64",
         "type": "integer"
        },
        {
         "name": "text",
         "rawType": "object",
         "type": "string"
        },
        {
         "name": "label",
         "rawType": "int64",
         "type": "integer"
        }
       ],
       "ref": "e3add402-50c5-4837-ace6-28a85d62b09f",
       "rows": [
        [
         "0",
         "$BYND - JPMorgan reels in expectations on Beyond Meat https://t.co/bd0xbFGjkT",
         "0"
        ],
        [
         "1",
         "$CCL $RCL - Nomura points to bookings weakness at Carnival and Royal Caribbean https://t.co/yGjpT2ReD3",
         "0"
        ],
        [
         "2",
         "$CX - Cemex cut at Credit Suisse, J.P. Morgan on weak building outlook https://t.co/KN1g4AWFIb",
         "0"
        ],
        [
         "3",
         "$ESS: BTIG Research cuts to Neutral https://t.co/MCyfTsXc2N",
         "0"
        ],
        [
         "4",
         "$FNKO - Funko slides after Piper Jaffray PT cut https://t.co/z37IJmCQzB",
         "0"
        ]
       ],
       "shape": {
        "columns": 2,
        "rows": 5
       }
      },
      "text/html": [
       "<div>\n",
       "<style scoped>\n",
       "    .dataframe tbody tr th:only-of-type {\n",
       "        vertical-align: middle;\n",
       "    }\n",
       "\n",
       "    .dataframe tbody tr th {\n",
       "        vertical-align: top;\n",
       "    }\n",
       "\n",
       "    .dataframe thead th {\n",
       "        text-align: right;\n",
       "    }\n",
       "</style>\n",
       "<table border=\"1\" class=\"dataframe\">\n",
       "  <thead>\n",
       "    <tr style=\"text-align: right;\">\n",
       "      <th></th>\n",
       "      <th>text</th>\n",
       "      <th>label</th>\n",
       "    </tr>\n",
       "  </thead>\n",
       "  <tbody>\n",
       "    <tr>\n",
       "      <th>0</th>\n",
       "      <td>$BYND - JPMorgan reels in expectations on Beyo...</td>\n",
       "      <td>0</td>\n",
       "    </tr>\n",
       "    <tr>\n",
       "      <th>1</th>\n",
       "      <td>$CCL $RCL - Nomura points to bookings weakness...</td>\n",
       "      <td>0</td>\n",
       "    </tr>\n",
       "    <tr>\n",
       "      <th>2</th>\n",
       "      <td>$CX - Cemex cut at Credit Suisse, J.P. Morgan ...</td>\n",
       "      <td>0</td>\n",
       "    </tr>\n",
       "    <tr>\n",
       "      <th>3</th>\n",
       "      <td>$ESS: BTIG Research cuts to Neutral https://t....</td>\n",
       "      <td>0</td>\n",
       "    </tr>\n",
       "    <tr>\n",
       "      <th>4</th>\n",
       "      <td>$FNKO - Funko slides after Piper Jaffray PT cu...</td>\n",
       "      <td>0</td>\n",
       "    </tr>\n",
       "  </tbody>\n",
       "</table>\n",
       "</div>"
      ],
      "text/plain": [
       "                                                text  label\n",
       "0  $BYND - JPMorgan reels in expectations on Beyo...      0\n",
       "1  $CCL $RCL - Nomura points to bookings weakness...      0\n",
       "2  $CX - Cemex cut at Credit Suisse, J.P. Morgan ...      0\n",
       "3  $ESS: BTIG Research cuts to Neutral https://t....      0\n",
       "4  $FNKO - Funko slides after Piper Jaffray PT cu...      0"
      ]
     },
     "execution_count": 4,
     "metadata": {},
     "output_type": "execute_result"
    }
   ],
   "source": [
    "train_data.head()"
   ]
  },
  {
   "cell_type": "code",
   "execution_count": 5,
   "id": "a16b4547",
   "metadata": {},
   "outputs": [
    {
     "data": {
      "application/vnd.microsoft.datawrangler.viewer.v0+json": {
       "columns": [
        {
         "name": "index",
         "rawType": "int64",
         "type": "integer"
        },
        {
         "name": "id",
         "rawType": "int64",
         "type": "integer"
        },
        {
         "name": "text",
         "rawType": "object",
         "type": "string"
        }
       ],
       "ref": "1b3be6fc-ffdc-4444-9421-70c5721a5087",
       "rows": [
        [
         "0",
         "0",
         "ETF assets to surge tenfold in 10 years to $50 trillion, Bank of America predicts"
        ],
        [
         "1",
         "1",
         "Here’s What Hedge Funds Think Evolution Petroleum Corporation (EPM)"
        ],
        [
         "2",
         "2",
         "$PVH - Phillips-Van Heusen Q3 2020 Earnings Preview https://t.co/kNhCYwVnBX"
        ],
        [
         "3",
         "3",
         "China is in the process of waiving retaliatory tariffs on imports of U.S. pork and soy by domestic companies, a pro… https://t.co/08mZU9TrBX"
        ],
        [
         "4",
         "4",
         "Highlight: “When growth is scarce, investors seem very willing to pay up for growth stock\" @PNCBank's… https://t.co/rO4fBOkBG9"
        ]
       ],
       "shape": {
        "columns": 2,
        "rows": 5
       }
      },
      "text/html": [
       "<div>\n",
       "<style scoped>\n",
       "    .dataframe tbody tr th:only-of-type {\n",
       "        vertical-align: middle;\n",
       "    }\n",
       "\n",
       "    .dataframe tbody tr th {\n",
       "        vertical-align: top;\n",
       "    }\n",
       "\n",
       "    .dataframe thead th {\n",
       "        text-align: right;\n",
       "    }\n",
       "</style>\n",
       "<table border=\"1\" class=\"dataframe\">\n",
       "  <thead>\n",
       "    <tr style=\"text-align: right;\">\n",
       "      <th></th>\n",
       "      <th>id</th>\n",
       "      <th>text</th>\n",
       "    </tr>\n",
       "  </thead>\n",
       "  <tbody>\n",
       "    <tr>\n",
       "      <th>0</th>\n",
       "      <td>0</td>\n",
       "      <td>ETF assets to surge tenfold in 10 years to $50...</td>\n",
       "    </tr>\n",
       "    <tr>\n",
       "      <th>1</th>\n",
       "      <td>1</td>\n",
       "      <td>Here’s What Hedge Funds Think Evolution Petrol...</td>\n",
       "    </tr>\n",
       "    <tr>\n",
       "      <th>2</th>\n",
       "      <td>2</td>\n",
       "      <td>$PVH - Phillips-Van Heusen Q3 2020 Earnings Pr...</td>\n",
       "    </tr>\n",
       "    <tr>\n",
       "      <th>3</th>\n",
       "      <td>3</td>\n",
       "      <td>China is in the process of waiving retaliatory...</td>\n",
       "    </tr>\n",
       "    <tr>\n",
       "      <th>4</th>\n",
       "      <td>4</td>\n",
       "      <td>Highlight: “When growth is scarce, investors s...</td>\n",
       "    </tr>\n",
       "  </tbody>\n",
       "</table>\n",
       "</div>"
      ],
      "text/plain": [
       "   id                                               text\n",
       "0   0  ETF assets to surge tenfold in 10 years to $50...\n",
       "1   1  Here’s What Hedge Funds Think Evolution Petrol...\n",
       "2   2  $PVH - Phillips-Van Heusen Q3 2020 Earnings Pr...\n",
       "3   3  China is in the process of waiving retaliatory...\n",
       "4   4  Highlight: “When growth is scarce, investors s..."
      ]
     },
     "execution_count": 5,
     "metadata": {},
     "output_type": "execute_result"
    }
   ],
   "source": [
    "test_data.head()"
   ]
  },
  {
   "cell_type": "markdown",
   "id": "3befb13e",
   "metadata": {},
   "source": [
    "## 2. Data Exploration"
   ]
  },
  {
   "cell_type": "code",
   "execution_count": 6,
   "id": "41cb158a",
   "metadata": {},
   "outputs": [
    {
     "data": {
      "application/vnd.microsoft.datawrangler.viewer.v0+json": {
       "columns": [
        {
         "name": "index",
         "rawType": "object",
         "type": "string"
        },
        {
         "name": "0",
         "rawType": "int64",
         "type": "integer"
        }
       ],
       "ref": "3026814d-7f29-4ee0-9809-41b5817574ff",
       "rows": [
        [
         "text",
         "0"
        ],
        [
         "label",
         "0"
        ]
       ],
       "shape": {
        "columns": 1,
        "rows": 2
       }
      },
      "text/plain": [
       "text     0\n",
       "label    0\n",
       "dtype: int64"
      ]
     },
     "execution_count": 6,
     "metadata": {},
     "output_type": "execute_result"
    }
   ],
   "source": [
    "# Checking for missing values\n",
    "train_data.isna().sum()"
   ]
  },
  {
   "cell_type": "markdown",
   "id": "2603d544",
   "metadata": {},
   "source": [
    "There are no missing values in the dataset, so it is safe to proceed."
   ]
  },
  {
   "cell_type": "markdown",
   "id": "414839c3",
   "metadata": {},
   "source": [
    "### 2.1. Text Feature"
   ]
  },
  {
   "cell_type": "markdown",
   "id": "33b9f181",
   "metadata": {},
   "source": [
    "#### 2.1.1. Word Count\n",
    "\n",
    "Start by spliting `text` into tokens and analysing the number of tokens in each document."
   ]
  },
  {
   "cell_type": "code",
   "execution_count": 7,
   "id": "de20b46c",
   "metadata": {},
   "outputs": [
    {
     "data": {
      "application/vnd.microsoft.datawrangler.viewer.v0+json": {
       "columns": [
        {
         "name": "index",
         "rawType": "int64",
         "type": "integer"
        },
        {
         "name": "text",
         "rawType": "object",
         "type": "string"
        },
        {
         "name": "word_count",
         "rawType": "int64",
         "type": "integer"
        }
       ],
       "ref": "08be1319-8034-473a-8947-a6e6f8386ef6",
       "rows": [
        [
         "0",
         "$BYND - JPMorgan reels in expectations on Beyond Meat https://t.co/bd0xbFGjkT",
         "10"
        ],
        [
         "1",
         "$CCL $RCL - Nomura points to bookings weakness at Carnival and Royal Caribbean https://t.co/yGjpT2ReD3",
         "14"
        ],
        [
         "2",
         "$CX - Cemex cut at Credit Suisse, J.P. Morgan on weak building outlook https://t.co/KN1g4AWFIb",
         "14"
        ],
        [
         "3",
         "$ESS: BTIG Research cuts to Neutral https://t.co/MCyfTsXc2N",
         "7"
        ],
        [
         "4",
         "$FNKO - Funko slides after Piper Jaffray PT cut https://t.co/z37IJmCQzB",
         "10"
        ]
       ],
       "shape": {
        "columns": 2,
        "rows": 5
       }
      },
      "text/html": [
       "<div>\n",
       "<style scoped>\n",
       "    .dataframe tbody tr th:only-of-type {\n",
       "        vertical-align: middle;\n",
       "    }\n",
       "\n",
       "    .dataframe tbody tr th {\n",
       "        vertical-align: top;\n",
       "    }\n",
       "\n",
       "    .dataframe thead th {\n",
       "        text-align: right;\n",
       "    }\n",
       "</style>\n",
       "<table border=\"1\" class=\"dataframe\">\n",
       "  <thead>\n",
       "    <tr style=\"text-align: right;\">\n",
       "      <th></th>\n",
       "      <th>text</th>\n",
       "      <th>word_count</th>\n",
       "    </tr>\n",
       "  </thead>\n",
       "  <tbody>\n",
       "    <tr>\n",
       "      <th>0</th>\n",
       "      <td>$BYND - JPMorgan reels in expectations on Beyo...</td>\n",
       "      <td>10</td>\n",
       "    </tr>\n",
       "    <tr>\n",
       "      <th>1</th>\n",
       "      <td>$CCL $RCL - Nomura points to bookings weakness...</td>\n",
       "      <td>14</td>\n",
       "    </tr>\n",
       "    <tr>\n",
       "      <th>2</th>\n",
       "      <td>$CX - Cemex cut at Credit Suisse, J.P. Morgan ...</td>\n",
       "      <td>14</td>\n",
       "    </tr>\n",
       "    <tr>\n",
       "      <th>3</th>\n",
       "      <td>$ESS: BTIG Research cuts to Neutral https://t....</td>\n",
       "      <td>7</td>\n",
       "    </tr>\n",
       "    <tr>\n",
       "      <th>4</th>\n",
       "      <td>$FNKO - Funko slides after Piper Jaffray PT cu...</td>\n",
       "      <td>10</td>\n",
       "    </tr>\n",
       "  </tbody>\n",
       "</table>\n",
       "</div>"
      ],
      "text/plain": [
       "                                                text  word_count\n",
       "0  $BYND - JPMorgan reels in expectations on Beyo...          10\n",
       "1  $CCL $RCL - Nomura points to bookings weakness...          14\n",
       "2  $CX - Cemex cut at Credit Suisse, J.P. Morgan ...          14\n",
       "3  $ESS: BTIG Research cuts to Neutral https://t....           7\n",
       "4  $FNKO - Funko slides after Piper Jaffray PT cu...          10"
      ]
     },
     "execution_count": 7,
     "metadata": {},
     "output_type": "execute_result"
    }
   ],
   "source": [
    "# Fetch wordcount for each document\n",
    "train_data['word_count']  = train_data['text'].apply(lambda x: len(str(x).split(\" \")))\n",
    "train_data[['text','word_count']].head()"
   ]
  },
  {
   "cell_type": "markdown",
   "id": "6e91c13c",
   "metadata": {},
   "source": [
    "#### 2.1.2. Descriptive Statistics"
   ]
  },
  {
   "cell_type": "code",
   "execution_count": 8,
   "id": "ba5ee00e",
   "metadata": {},
   "outputs": [
    {
     "data": {
      "application/vnd.microsoft.datawrangler.viewer.v0+json": {
       "columns": [
        {
         "name": "index",
         "rawType": "object",
         "type": "string"
        },
        {
         "name": "word_count",
         "rawType": "float64",
         "type": "float"
        }
       ],
       "ref": "4983b543-e25c-4fe1-8547-17b6effd8d35",
       "rows": [
        [
         "count",
         "9543.0"
        ],
        [
         "mean",
         "12.168081316147962"
        ],
        [
         "std",
         "4.651245064570518"
        ],
        [
         "min",
         "1.0"
        ],
        [
         "25%",
         "9.0"
        ],
        [
         "50%",
         "11.0"
        ],
        [
         "75%",
         "15.0"
        ],
        [
         "max",
         "31.0"
        ]
       ],
       "shape": {
        "columns": 1,
        "rows": 8
       }
      },
      "text/plain": [
       "count    9543.000000\n",
       "mean       12.168081\n",
       "std         4.651245\n",
       "min         1.000000\n",
       "25%         9.000000\n",
       "50%        11.000000\n",
       "75%        15.000000\n",
       "max        31.000000\n",
       "Name: word_count, dtype: float64"
      ]
     },
     "execution_count": 8,
     "metadata": {},
     "output_type": "execute_result"
    }
   ],
   "source": [
    "train_data['word_count'].describe()"
   ]
  },
  {
   "cell_type": "code",
   "execution_count": 9,
   "id": "9d683ce3",
   "metadata": {},
   "outputs": [
    {
     "data": {
      "image/png": "[encoded data removed]",
      "text/plain": [
       "<Figure size 640x480 with 1 Axes>"
      ]
     },
     "metadata": {},
     "output_type": "display_data"
    }
   ],
   "source": [
    "#Plot distribution of text length\n",
    "sns.histplot(train_data['word_count'], bins=30)\n",
    "plt.title(\"Distribution of Text Lengths (raw text)\")\n",
    "plt.xlabel(\"Length of text\")\n",
    "plt.ylabel(\"Frequency\")\n",
    "plt.show()"
   ]
  },
  {
   "cell_type": "markdown",
   "id": "520d4697",
   "metadata": {},
   "source": [
    "Considering the table and plot above, it is evident that some rows have very few words. Below, is a deeper exploration of these cases."
   ]
  },
  {
   "cell_type": "code",
   "execution_count": 10,
   "id": "cc75d2b3",
   "metadata": {},
   "outputs": [
    {
     "data": {
      "application/vnd.microsoft.datawrangler.viewer.v0+json": {
       "columns": [
        {
         "name": "index",
         "rawType": "int64",
         "type": "integer"
        },
        {
         "name": "text",
         "rawType": "object",
         "type": "string"
        },
        {
         "name": "label",
         "rawType": "int64",
         "type": "integer"
        },
        {
         "name": "word_count",
         "rawType": "int64",
         "type": "integer"
        }
       ],
       "ref": "19f184d0-2d30-471e-9c05-33cfe727bc79",
       "rows": [
        [
         "1858",
         "SASA聚酯选用英威达PTA技术",
         "2",
         "1"
        ],
        [
         "3090",
         "Brent +4%",
         "1",
         "2"
        ],
        [
         "3593",
         "Honeywell reaffirms guidance",
         "2",
         "3"
        ],
        [
         "3943",
         ":)",
         "2",
         "1"
        ],
        [
         "3945",
         "@MikeCaymanTrades sometimes",
         "2",
         "2"
        ],
        [
         "3947",
         "@SpeakerPelosi \"degenerate gambler\"",
         "2",
         "3"
        ],
        [
         "3948",
         "@TicToc",
         "2",
         "1"
        ],
        [
         "3980",
         "100% Correct!",
         "2",
         "2"
        ],
        [
         "3988",
         "2020's Biggest Risks",
         "2",
         "3"
        ],
        [
         "4189",
         "Best. newsletter. ever\n\nhttps://t.co/3SVESK2KGi",
         "2",
         "3"
        ],
        [
         "4358",
         "Cya Jason Garrett",
         "2",
         "3"
        ],
        [
         "4360",
         "Damn",
         "2",
         "1"
        ],
        [
         "4440",
         "F5",
         "2",
         "1"
        ],
        [
         "4518",
         "Great Grandmother’s Will",
         "2",
         "3"
        ],
        [
         "4681",
         "https://t.co/575AH1YRkF",
         "2",
         "1"
        ],
        [
         "4682",
         "https://t.co/9eZPvQhfMq",
         "2",
         "1"
        ],
        [
         "4683",
         "https://t.co/oJxNPEUpWq",
         "2",
         "1"
        ],
        [
         "4811",
         "London stalling... https://t.co/8iINzcpNd8",
         "2",
         "3"
        ],
        [
         "4869",
         "More later. https://t.co/7P4a8ctwHq",
         "2",
         "3"
        ],
        [
         "4914",
         "Next week.",
         "2",
         "2"
        ],
        [
         "5002",
         "Quarterly Service Report",
         "2",
         "3"
        ],
        [
         "5006",
         "Racing on Ice",
         "2",
         "3"
        ],
        [
         "5083",
         "something monopoly something",
         "2",
         "3"
        ],
        [
         "5320",
         "Three breakfast reads",
         "2",
         "3"
        ],
        [
         "5329",
         "Time to reconsider?",
         "2",
         "3"
        ],
        [
         "5360",
         "Tuesday's economic calendar",
         "2",
         "3"
        ],
        [
         "5430",
         "Wednesday's economic calendar",
         "2",
         "3"
        ],
        [
         "5484",
         "Wholesale Trade",
         "2",
         "2"
        ],
        [
         "5501",
         "Wingstop enters France",
         "2",
         "3"
        ],
        [
         "5505",
         "Wipro赢得Marelli的多年战略性IT协议",
         "2",
         "1"
        ],
        [
         "5512",
         "Woke Sachs",
         "2",
         "2"
        ],
        [
         "5520",
         "Wow  https://t.co/L9mDvwlyhx",
         "2",
         "3"
        ],
        [
         "5654",
         "$penn coin",
         "2",
         "2"
        ],
        [
         "5737",
         "California sues Juul",
         "0",
         "3"
        ],
        [
         "6511",
         "Housing Starts",
         "2",
         "2"
        ],
        [
         "6526",
         "Jobs heatmap https://t.co/it2tmRBNZv",
         "2",
         "3"
        ],
        [
         "6819",
         "Futures up https://t.co/diz7v5lmVb",
         "1",
         "3"
        ],
        [
         "6841",
         "Nasdaq climbs 0.3%",
         "1",
         "3"
        ],
        [
         "6849",
         "Nasdaq up 0.2%",
         "1",
         "3"
        ],
        [
         "6990",
         "Averages end flat",
         "2",
         "3"
        ],
        [
         "7276",
         "Kudlow https://t.co/owfUNJQzrb",
         "2",
         "2"
        ],
        [
         "7800",
         "$AIKI bouncing nicely.....",
         "1",
         "3"
        ],
        [
         "7935",
         "$WW heavy....",
         "1",
         "2"
        ],
        [
         "7945",
         "added $GGG (common)",
         "1",
         "3"
        ],
        [
         "8055",
         "Long $WMT",
         "1",
         "2"
        ],
        [
         "8150",
         "$AMRN Strong action",
         "2",
         "3"
        ],
        [
         "8153",
         "$APOP on scans.",
         "2",
         "3"
        ],
        [
         "8160",
         "$BIIB 😀 https://t.co/j5gwpGJVu1",
         "2",
         "3"
        ],
        [
         "8167",
         "$CEI Woke up",
         "2",
         "3"
        ],
        [
         "8189",
         "$EXPE continuation https://t.co/g60rBZmP2Q",
         "2",
         "3"
        ]
       ],
       "shape": {
        "columns": 3,
        "rows": 80
       }
      },
      "text/html": [
       "<div>\n",
       "<style scoped>\n",
       "    .dataframe tbody tr th:only-of-type {\n",
       "        vertical-align: middle;\n",
       "    }\n",
       "\n",
       "    .dataframe tbody tr th {\n",
       "        vertical-align: top;\n",
       "    }\n",
       "\n",
       "    .dataframe thead th {\n",
       "        text-align: right;\n",
       "    }\n",
       "</style>\n",
       "<table border=\"1\" class=\"dataframe\">\n",
       "  <thead>\n",
       "    <tr style=\"text-align: right;\">\n",
       "      <th></th>\n",
       "      <th>text</th>\n",
       "      <th>label</th>\n",
       "      <th>word_count</th>\n",
       "    </tr>\n",
       "  </thead>\n",
       "  <tbody>\n",
       "    <tr>\n",
       "      <th>1858</th>\n",
       "      <td>SASA聚酯选用英威达PTA技术</td>\n",
       "      <td>2</td>\n",
       "      <td>1</td>\n",
       "    </tr>\n",
       "    <tr>\n",
       "      <th>3090</th>\n",
       "      <td>Brent +4%</td>\n",
       "      <td>1</td>\n",
       "      <td>2</td>\n",
       "    </tr>\n",
       "    <tr>\n",
       "      <th>3593</th>\n",
       "      <td>Honeywell reaffirms guidance</td>\n",
       "      <td>2</td>\n",
       "      <td>3</td>\n",
       "    </tr>\n",
       "    <tr>\n",
       "      <th>3943</th>\n",
       "      <td>:)</td>\n",
       "      <td>2</td>\n",
       "      <td>1</td>\n",
       "    </tr>\n",
       "    <tr>\n",
       "      <th>3945</th>\n",
       "      <td>@MikeCaymanTrades sometimes</td>\n",
       "      <td>2</td>\n",
       "      <td>2</td>\n",
       "    </tr>\n",
       "    <tr>\n",
       "      <th>...</th>\n",
       "      <td>...</td>\n",
       "      <td>...</td>\n",
       "      <td>...</td>\n",
       "    </tr>\n",
       "    <tr>\n",
       "      <th>8805</th>\n",
       "      <td>SBFGP</td>\n",
       "      <td>2</td>\n",
       "      <td>1</td>\n",
       "    </tr>\n",
       "    <tr>\n",
       "      <th>8866</th>\n",
       "      <td>took $PANW #4</td>\n",
       "      <td>2</td>\n",
       "      <td>3</td>\n",
       "    </tr>\n",
       "    <tr>\n",
       "      <th>8867</th>\n",
       "      <td>took $PLAY #4</td>\n",
       "      <td>2</td>\n",
       "      <td>3</td>\n",
       "    </tr>\n",
       "    <tr>\n",
       "      <th>8878</th>\n",
       "      <td>WBK</td>\n",
       "      <td>2</td>\n",
       "      <td>1</td>\n",
       "    </tr>\n",
       "    <tr>\n",
       "      <th>9257</th>\n",
       "      <td>$WORX new highs</td>\n",
       "      <td>1</td>\n",
       "      <td>3</td>\n",
       "    </tr>\n",
       "  </tbody>\n",
       "</table>\n",
       "<p>80 rows × 3 columns</p>\n",
       "</div>"
      ],
      "text/plain": [
       "                              text  label  word_count\n",
       "1858              SASA聚酯选用英威达PTA技术      2           1\n",
       "3090                     Brent +4%      1           2\n",
       "3593  Honeywell reaffirms guidance      2           3\n",
       "3943                            :)      2           1\n",
       "3945   @MikeCaymanTrades sometimes      2           2\n",
       "...                            ...    ...         ...\n",
       "8805                         SBFGP      2           1\n",
       "8866                 took $PANW #4      2           3\n",
       "8867                 took $PLAY #4      2           3\n",
       "8878                           WBK      2           1\n",
       "9257               $WORX new highs      1           3\n",
       "\n",
       "[80 rows x 3 columns]"
      ]
     },
     "execution_count": 10,
     "metadata": {},
     "output_type": "execute_result"
    }
   ],
   "source": [
    "# Checking records with 3 words or less\n",
    "train_data[train_data['word_count'] <= 3]"
   ]
  },
  {
   "cell_type": "markdown",
   "id": "db0ca4e5",
   "metadata": {},
   "source": [
    "Looking at the records with 3 or less words, most belong to the Neutral category (label = 2). Since there is an overrepresentation of this class in the dataset, below the records above belonging to the Neutral category are excluded."
   ]
  },
  {
   "cell_type": "code",
   "execution_count": 11,
   "id": "2614abca",
   "metadata": {},
   "outputs": [],
   "source": [
    "train_data = train_data[~((train_data['word_count'] <= 3) & (train_data['label'] == 2))]"
   ]
  },
  {
   "cell_type": "code",
   "execution_count": 12,
   "id": "0b41e609",
   "metadata": {},
   "outputs": [
    {
     "data": {
      "application/vnd.microsoft.datawrangler.viewer.v0+json": {
       "columns": [
        {
         "name": "index",
         "rawType": "object",
         "type": "string"
        },
        {
         "name": "count",
         "rawType": "int64",
         "type": "integer"
        }
       ],
       "ref": "d1827200-7acf-468a-b9ce-0dedeeeff3d5",
       "rows": [
        [
         "to",
         "2331"
        ],
        [
         "the",
         "1820"
        ],
        [
         "of",
         "1464"
        ],
        [
         "-",
         "1390"
        ],
        [
         "in",
         "1361"
        ],
        [
         "on",
         "1134"
        ],
        [
         "for",
         "1032"
        ],
        [
         "a",
         "970"
        ],
        [
         "and",
         "898"
        ],
        [
         "The",
         "663"
        ]
       ],
       "shape": {
        "columns": 1,
        "rows": 10
       }
      },
      "text/plain": [
       "to     2331\n",
       "the    1820\n",
       "of     1464\n",
       "-      1390\n",
       "in     1361\n",
       "on     1134\n",
       "for    1032\n",
       "a       970\n",
       "and     898\n",
       "The     663\n",
       "Name: count, dtype: int64"
      ]
     },
     "execution_count": 12,
     "metadata": {},
     "output_type": "execute_result"
    }
   ],
   "source": [
    "# Checking word frequency\n",
    "all_words = ' '.join(train_data['text']).split()\n",
    "freq = pd.Series(all_words).value_counts()\n",
    "freq.sort_values(ascending=False)[0:10]"
   ]
  },
  {
   "cell_type": "markdown",
   "id": "51294f0c",
   "metadata": {},
   "source": [
    "From the table above, \"the\" and \"The\" are both words in the top 10 - this could indicate a beneficial effect of lowercasing the 'text' feature.<br>\n",
    "Also, \"-\" is a very common symbol which has no meaning and should be removed from the feature."
   ]
  },
  {
   "cell_type": "code",
   "execution_count": 13,
   "id": "90466709",
   "metadata": {},
   "outputs": [
    {
     "data": {
      "image/png": "[encoded data removed]",
      "text/plain": [
       "<Figure size 640x480 with 1 Axes>"
      ]
     },
     "metadata": {},
     "output_type": "display_data"
    }
   ],
   "source": [
    "# Plotting the word frequencies count\n",
    "x_labels = freq.index[0:10]\n",
    "values = freq[:10]\n",
    "plt.bar(x_labels, values, align='center', alpha=0.5)\n",
    "plt.xticks(x_labels)\n",
    "plt.ylabel('Frequencies')\n",
    "plt.title('Words')\n",
    "\n",
    "plt.show()"
   ]
  },
  {
   "cell_type": "code",
   "execution_count": 14,
   "id": "ffd55fae",
   "metadata": {},
   "outputs": [
    {
     "data": {
      "image/png": "[encoded data removed]",
      "text/plain": [
       "<Figure size 640x480 with 1 Axes>"
      ]
     },
     "metadata": {},
     "output_type": "display_data"
    }
   ],
   "source": [
    "# Create a word cloud from the text feature\n",
    "raw_text = ' '.join(train_data['text'].fillna('')).lower()\n",
    "raw_wc = WordCloud(width=800, height=400, background_color='white').generate(raw_text)\n",
    "plt.imshow(raw_wc, interpolation='bilinear')\n",
    "plt.axis('off')\n",
    "plt.title('Word Cloud (Raw Text)')\n",
    "plt.show()"
   ]
  },
  {
   "cell_type": "markdown",
   "id": "d5688652",
   "metadata": {},
   "source": [
    "### 2.2. Target Feature"
   ]
  },
  {
   "cell_type": "code",
   "execution_count": 15,
   "id": "9c2a5c0e",
   "metadata": {},
   "outputs": [
    {
     "data": {
      "application/vnd.microsoft.datawrangler.viewer.v0+json": {
       "columns": [
        {
         "name": "label",
         "rawType": "int64",
         "type": "integer"
        },
        {
         "name": "count",
         "rawType": "int64",
         "type": "integer"
        }
       ],
       "ref": "6695dfb1-4f1f-4a30-a2c4-d6b5cb22f7c9",
       "rows": [
        [
         "2",
         "6108"
        ],
        [
         "1",
         "1923"
        ],
        [
         "0",
         "1442"
        ]
       ],
       "shape": {
        "columns": 1,
        "rows": 3
       }
      },
      "text/plain": [
       "label\n",
       "2    6108\n",
       "1    1923\n",
       "0    1442\n",
       "Name: count, dtype: int64"
      ]
     },
     "execution_count": 15,
     "metadata": {},
     "output_type": "execute_result"
    }
   ],
   "source": [
    "train_data['label'].value_counts()"
   ]
  },
  {
   "cell_type": "code",
   "execution_count": 16,
   "id": "4c1b2fc1",
   "metadata": {},
   "outputs": [
    {
     "data": {
      "image/png": "[encoded data removed]",
      "text/plain": [
       "<Figure size 640x480 with 1 Axes>"
      ]
     },
     "metadata": {},
     "output_type": "display_data"
    }
   ],
   "source": [
    "# Visualize distribution of label\n",
    "sns.countplot(data=train_data, x='label')\n",
    "plt.title(\"Distribution of label\")\n",
    "plt.xlabel(\"label\")\n",
    "plt.ylabel(\"Count\")\n",
    "plt.show()"
   ]
  },
  {
   "cell_type": "code",
   "execution_count": 17,
   "id": "c401918d",
   "metadata": {},
   "outputs": [
    {
     "data": {
      "image/png": "[encoded data removed]",
      "text/plain": [
       "<Figure size 800x600 with 1 Axes>"
      ]
     },
     "metadata": {},
     "output_type": "display_data"
    }
   ],
   "source": [
    "plt.figure(figsize=(8, 6))\n",
    "sns.boxplot(y='label', data=train_data, width=0.3)\n",
    "\n",
    "plt.title('Boxplot of Label', fontsize=16)\n",
    "plt.ylabel('Label', fontsize=12)\n",
    "plt.xlabel('')\n",
    "\n",
    "plt.show()"
   ]
  },
  {
   "cell_type": "markdown",
   "id": "bbadf24f",
   "metadata": {},
   "source": [
    "## 3. Data Preprocessing"
   ]
  },
  {
   "cell_type": "code",
   "execution_count": 18,
   "id": "5fa3c487",
   "metadata": {},
   "outputs": [],
   "source": [
    "# Defining the stopwords\n",
    "stop = set(stopwords.words('english'))\n",
    "\n",
    "# Initializing Lemmatizer\n",
    "lemma = WordNetLemmatizer()\n",
    "\n",
    "# Initializing Stemmer\n",
    "stemmer = SnowballStemmer('english')"
   ]
  },
  {
   "cell_type": "code",
   "execution_count": null,
   "id": "1ed76e10",
   "metadata": {},
   "outputs": [],
   "source": [
    "# Apply preprocessing\n",
    "train_data['text'] = preprocess(\n",
    "    corpus=train_data['text'],\n",
    "    to_lower=True,\n",
    "    keep_ticker=False,\n",
    "    anonymize=False,\n",
    "    keep_url=False,\n",
    "    stopwords=stop,\n",
    "    lemmatizer=lemma,\n",
    "    stemmizer=None\n",
    ")"
   ]
  },
  {
   "cell_type": "code",
   "execution_count": null,
   "id": "013ff1a2",
   "metadata": {},
   "outputs": [],
   "source": [
    "# Apply preprocessing\n",
    "test_data['text'] = preprocess(\n",
    "    corpus=test_data['text'],\n",
    "    to_lower=True,\n",
    "    keep_ticker=False,\n",
    "    anonymize=False,\n",
    "    keep_url=False,\n",
    "    stopwords=stop,\n",
    "    lemmatizer=lemma,\n",
    "    stemmizer=stemmer\n",
    ")"
   ]
  },
  {
   "cell_type": "code",
   "execution_count": null,
   "id": "4112924c",
   "metadata": {},
   "outputs": [],
   "source": [
    "# Fill missing values with empty string\n",
    "train_data['text'] = train_data['text'].fillna('')\n",
    "test_data['text'] = test_data['text'].fillna('')"
   ]
  },
  {
   "cell_type": "code",
   "execution_count": null,
   "id": "15bc0789",
   "metadata": {},
   "outputs": [],
   "source": [
    "# Export preprocessed data\n",
    "train_data.to_csv(f'{DATA_DIR}/train_preprocessed.csv', sep=',', index=False)\n",
    "test_data.to_csv(f'{DATA_DIR}/test_preprocessed.csv', sep=',', index=False)"
   ]
  },
  {
   "cell_type": "code",
   "execution_count": null,
   "id": "f4751be9",
   "metadata": {},
   "outputs": [],
   "source": [
    "# Reassign datasets\n",
    "train_data = pd.read_csv(f'{DATA_DIR}/train_preprocessed.csv')\n",
    "test_data = pd.read_csv(f'{DATA_DIR}/test_preprocessed.csv')"
   ]
  },
  {
   "cell_type": "markdown",
   "id": "9a76342f",
   "metadata": {},
   "source": [
    "### 3.1. Rechecking the Plots"
   ]
  },
  {
   "cell_type": "code",
   "execution_count": null,
   "id": "afa12041",
   "metadata": {},
   "outputs": [],
   "source": [
    "all_words = ' '.join(train_data['text']).split()\n",
    "freq = pd.Series(all_words).value_counts()\n",
    "freq.sort_values(ascending=False)[0:10]"
   ]
  },
  {
   "cell_type": "code",
   "execution_count": null,
   "id": "95e12b46",
   "metadata": {},
   "outputs": [],
   "source": [
    "plt.figure(figsize=(10, 5))\n",
    "x_labels = freq.index[0:10]\n",
    "values = freq[:10]\n",
    "\n",
    "plt.bar(x_labels, values, align='center', alpha=0.5)\n",
    "plt.ylabel('Frequencies')\n",
    "plt.title('Top 10 Words')\n",
    "plt.tight_layout()\n",
    "\n",
    "plt.show()"
   ]
  },
  {
   "cell_type": "code",
   "execution_count": null,
   "id": "da9f221c",
   "metadata": {},
   "outputs": [],
   "source": [
    "# Drop rows with encoding errors\n",
    "exceptions = find_punctuated_tokens(train_data['text'])\n",
    "\n",
    "pattern = r'(?:' + '|'.join(re.escape(word) for word in exceptions) + r')'\n",
    "\n",
    "train_data = train_data[~train_data['text'].str.contains(pattern, case=False, na=False)]"
   ]
  },
  {
   "cell_type": "code",
   "execution_count": null,
   "id": "a63adb49",
   "metadata": {},
   "outputs": [],
   "source": [
    "# Word cloud\n",
    "raw_text = ' '.join(train_data['text'].fillna('')).lower()\n",
    "raw_wc = WordCloud(width=800, height=400, background_color='white').generate(raw_text)\n",
    "plt.imshow(raw_wc, interpolation='bilinear')\n",
    "plt.axis('off')\n",
    "plt.title('Word Cloud (Raw Text)')\n",
    "plt.show()"
   ]
  },
  {
   "cell_type": "code",
   "execution_count": null,
   "id": "abc05193",
   "metadata": {},
   "outputs": [],
   "source": [
    "# Define dependent and independent features\n",
    "\n",
    "# Train\n",
    "X_train = train_data['text']\n",
    "y_train = train_data['label']\n",
    "\n",
    "# Test\n",
    "X_test = test_data['text']"
   ]
  },
  {
   "cell_type": "code",
   "execution_count": null,
   "id": "efff4ee0",
   "metadata": {},
   "outputs": [],
   "source": [
    "train_data.text"
   ]
  },
  {
   "cell_type": "markdown",
   "id": "657a3245",
   "metadata": {},
   "source": [
    "## 4. Feature Engineering"
   ]
  },
  {
   "cell_type": "markdown",
   "id": "e95eca05",
   "metadata": {},
   "source": [
    "### 4.1 Bag of Words"
   ]
  },
  {
   "cell_type": "code",
   "execution_count": null,
   "id": "63e79d00",
   "metadata": {},
   "outputs": [],
   "source": [
    "# Bag of Words\n",
    "bow = CountVectorizer(\n",
    "    binary=True  # using binary=True, because working with short text\n",
    ")"
   ]
  },
  {
   "cell_type": "markdown",
   "id": "54e8e5e2",
   "metadata": {},
   "source": [
    "### 4.2 Word2Vec"
   ]
  },
  {
   "cell_type": "code",
   "execution_count": null,
   "id": "94f42861",
   "metadata": {},
   "outputs": [],
   "source": [
    "w2v = W2VVectorizer(\n",
    "    Word2Vec(\n",
    "        sentences=train_data.text.apply(lambda x: x.split()).tolist(), #list of lists\n",
    "        vector_size=5,    # size of the embedding vectors\n",
    "        window=2,         # context window size\n",
    "        min_count=1,      # minimum word frequency to include\n",
    "        sg=1              # 1 for skip-gram; 0 for CBOW\n",
    "    )\n",
    ")"
   ]
  },
  {
   "cell_type": "markdown",
   "id": "56788e0b",
   "metadata": {},
   "source": [
    "### 4.3. DistilBERT"
   ]
  },
  {
   "cell_type": "code",
   "execution_count": null,
   "id": "b4e095bf",
   "metadata": {},
   "outputs": [],
   "source": [
    "distilbert_model = \"distilbert-base-uncased-finetuned-sst-2-english\"\n",
    "distilbert = CLSVectorizer(\n",
    "    embeddings_model=BERTVectorizer(\n",
    "        model_name=distilbert_model\n",
    "    ).embed\n",
    ")"
   ]
  },
  {
   "cell_type": "markdown",
   "id": "47461dac",
   "metadata": {},
   "source": [
    "### 4.4. RoBERTa"
   ]
  },
  {
   "cell_type": "code",
   "execution_count": null,
   "id": "4a84d6db",
   "metadata": {},
   "outputs": [],
   "source": [
    "roberta_model = \"cardiffnlp/twitter-roberta-base-sentiment\"\n",
    "roberta = CLSVectorizer(\n",
    "    embeddings_model=BERTVectorizer(\n",
    "        model_name=roberta_model\n",
    "    ).embed\n",
    ")"
   ]
  },
  {
   "cell_type": "markdown",
   "id": "cb718a90",
   "metadata": {},
   "source": [
    "### 4.5. FinBERT"
   ]
  },
  {
   "cell_type": "code",
   "execution_count": null,
   "id": "b4a33957",
   "metadata": {},
   "outputs": [],
   "source": [
    "finbert_model = \"yiyanghkust/finbert-tone\"\n",
    "finbert = CLSVectorizer(\n",
    "    embeddings_model=BERTVectorizer(\n",
    "        model_name=finbert_model\n",
    "    ).embed\n",
    ")"
   ]
  },
  {
   "cell_type": "markdown",
   "id": "fed4bd11",
   "metadata": {},
   "source": [
    "## 5. Modelling"
   ]
  },
  {
   "cell_type": "code",
   "execution_count": null,
   "id": "fcfedfdd",
   "metadata": {},
   "outputs": [],
   "source": [
    "# Stratified K-Fold\n",
    "skf = StratifiedKFold(n_splits=2, shuffle=True, random_state=20)"
   ]
  },
  {
   "cell_type": "markdown",
   "id": "fa742401",
   "metadata": {},
   "source": [
    "### 5.1. KNN"
   ]
  },
  {
   "cell_type": "code",
   "execution_count": null,
   "id": "760e5b64",
   "metadata": {},
   "outputs": [],
   "source": [
    "knn = KNeighborsClassifier(n_neighbors=10, metric='cosine', weights='distance')"
   ]
  },
  {
   "cell_type": "markdown",
   "id": "9e22d110",
   "metadata": {},
   "source": [
    "#### Bag of Words"
   ]
  },
  {
   "cell_type": "code",
   "execution_count": null,
   "id": "d0ab302c",
   "metadata": {},
   "outputs": [],
   "source": [
    "# Evaluate the model\n",
    "y_true_all, y_pred_all = eval_sklearn_model(\n",
    "    vectorizer=bow\n",
    "    ,classifier=knn\n",
    "    ,skf=skf\n",
    "    ,X_train=X_train\n",
    "    ,y_train=y_train\n",
    ")"
   ]
  },
  {
   "cell_type": "code",
   "execution_count": null,
   "id": "ad1e0c75",
   "metadata": {},
   "outputs": [],
   "source": [
    "print(\"Overall classification report across all folds:\\n\")\n",
    "print(classification_report(y_true_all, y_pred_all, digits=4, target_names=LABELS.keys()))"
   ]
  },
  {
   "cell_type": "code",
   "execution_count": null,
   "id": "c6ef8329",
   "metadata": {},
   "outputs": [],
   "source": [
    "# Confusion matrix\n",
    "cm = confusion_matrix(y_true_all, y_pred_all)\n",
    "\n",
    "plt.figure(figsize=(6,5))\n",
    "sns.heatmap(cm, annot=True, fmt='d', cmap='Blues', xticklabels=LABELS.keys(), yticklabels=LABELS.keys())\n",
    "plt.xlabel('Predicted', labelpad=15)\n",
    "plt.ylabel('True', labelpad=15)\n",
    "plt.title('Confusion Matrix (KNN Bag of Words)', fontsize=16)\n",
    "plt.show()"
   ]
  },
  {
   "cell_type": "markdown",
   "id": "aa1f0594",
   "metadata": {},
   "source": [
    "#### Word2Vec"
   ]
  },
  {
   "cell_type": "code",
   "execution_count": null,
   "id": "605f450b",
   "metadata": {},
   "outputs": [],
   "source": [
    "# Evaluate the model\n",
    "y_true_all, y_pred_all = eval_sklearn_model(\n",
    "    vectorizer=w2v\n",
    "    ,classifier=knn\n",
    "    ,skf=skf\n",
    "    ,X_train=X_train\n",
    "    ,y_train=y_train\n",
    ")"
   ]
  },
  {
   "cell_type": "code",
   "execution_count": null,
   "id": "524c3264",
   "metadata": {},
   "outputs": [],
   "source": [
    "print(\"Overall classification report across all folds:\\n\")\n",
    "print(classification_report(y_true_all, y_pred_all, digits=4, target_names=LABELS.keys()))"
   ]
  },
  {
   "cell_type": "code",
   "execution_count": null,
   "id": "b191962a",
   "metadata": {},
   "outputs": [],
   "source": [
    "# Confusion matrix\n",
    "cm = confusion_matrix(y_true_all, y_pred_all)\n",
    "\n",
    "plt.figure(figsize=(6,5))\n",
    "sns.heatmap(cm, annot=True, fmt='d', cmap='Blues', xticklabels=LABELS.keys(), yticklabels=LABELS.keys())\n",
    "plt.xlabel('Predicted', labelpad=15)\n",
    "plt.ylabel('True', labelpad=15)\n",
    "plt.title('Confusion Matrix (KNN Word2Vec)', fontsize=16)\n",
    "plt.show()"
   ]
  },
  {
   "cell_type": "markdown",
   "id": "e45668d5",
   "metadata": {},
   "source": [
    "#### DistilBERT"
   ]
  },
  {
   "cell_type": "code",
   "execution_count": null,
   "id": "391825c4",
   "metadata": {},
   "outputs": [],
   "source": [
    "# Evaluate the model\n",
    "y_true_all, y_pred_all = eval_sklearn_model(\n",
    "    vectorizer=distilbert,\n",
    "    classifier=knn,\n",
    "    skf=skf,\n",
    "    X_train=X_train,\n",
    "    y_train=y_train\n",
    ")"
   ]
  },
  {
   "cell_type": "code",
   "execution_count": null,
   "id": "45e2c6a3",
   "metadata": {},
   "outputs": [],
   "source": [
    "print(\"Overall classification report across all folds:\\n\")\n",
    "print(classification_report(y_true_all, y_pred_all, digits=4, target_names=LABELS.keys()))"
   ]
  },
  {
   "cell_type": "code",
   "execution_count": null,
   "id": "40973826",
   "metadata": {},
   "outputs": [],
   "source": [
    "# Confusion matrix\n",
    "cm = confusion_matrix(y_true_all, y_pred_all)\n",
    "\n",
    "plt.figure(figsize=(6,5))\n",
    "sns.heatmap(cm, annot=True, fmt='d', cmap='Blues', xticklabels=LABELS.keys(), yticklabels=LABELS.keys())\n",
    "plt.xlabel('Predicted', labelpad=15)\n",
    "plt.ylabel('True', labelpad=15)\n",
    "plt.title('Confusion Matrix (KNN DistilBERT)', fontsize=16)\n",
    "plt.show()"
   ]
  },
  {
   "cell_type": "markdown",
   "id": "9f1ffd3c",
   "metadata": {},
   "source": [
    "#### RoBERTa"
   ]
  },
  {
   "cell_type": "code",
   "execution_count": null,
   "id": "22b77ee0",
   "metadata": {},
   "outputs": [],
   "source": [
    "# Evaluate the model\n",
    "y_true_all, y_pred_all = eval_sklearn_model(\n",
    "    vectorizer=roberta,\n",
    "    classifier=knn,\n",
    "    skf=skf,\n",
    "    X_train=X_train,\n",
    "    y_train=y_train\n",
    ")"
   ]
  },
  {
   "cell_type": "code",
   "execution_count": null,
   "id": "0ca06d36",
   "metadata": {},
   "outputs": [],
   "source": [
    "print(\"Overall classification report across all folds:\\n\")\n",
    "print(classification_report(y_true_all, y_pred_all, digits=4, target_names=LABELS.keys()))"
   ]
  },
  {
   "cell_type": "code",
   "execution_count": null,
   "id": "ee544df3",
   "metadata": {},
   "outputs": [],
   "source": [
    "# Confusion matrix\n",
    "cm = confusion_matrix(y_true_all, y_pred_all)\n",
    "\n",
    "plt.figure(figsize=(6,5))\n",
    "sns.heatmap(cm, annot=True, fmt='d', cmap='Blues', xticklabels=LABELS.keys(), yticklabels=LABELS.keys())\n",
    "plt.xlabel('Predicted', labelpad=15)\n",
    "plt.ylabel('True', labelpad=15)\n",
    "plt.title('Confusion Matrix (KNN RoBERTa)', fontsize=16)\n",
    "plt.show()"
   ]
  },
  {
   "cell_type": "markdown",
   "id": "769fe865",
   "metadata": {},
   "source": [
    "#### FinBERT"
   ]
  },
  {
   "cell_type": "code",
   "execution_count": null,
   "id": "d2f1e90d",
   "metadata": {},
   "outputs": [],
   "source": [
    "# Evaluate the model\n",
    "y_true_all, y_pred_all = eval_sklearn_model(\n",
    "    vectorizer=finbert,\n",
    "    classifier=knn,\n",
    "    skf=skf,\n",
    "    X_train=X_train,\n",
    "    y_train=y_train\n",
    ")"
   ]
  },
  {
   "cell_type": "code",
   "execution_count": null,
   "id": "1aa8b935",
   "metadata": {},
   "outputs": [],
   "source": [
    "print(\"Overall classification report across all folds:\\n\")\n",
    "print(classification_report(y_true_all, y_pred_all, digits=4, target_names=LABELS.keys()))"
   ]
  },
  {
   "cell_type": "code",
   "execution_count": null,
   "id": "7156aa23",
   "metadata": {},
   "outputs": [],
   "source": [
    "# Confusion matrix\n",
    "cm = confusion_matrix(y_true_all, y_pred_all)\n",
    "\n",
    "plt.figure(figsize=(6,5))\n",
    "sns.heatmap(cm, annot=True, fmt='d', cmap='Blues', xticklabels=LABELS.keys(), yticklabels=LABELS.keys())\n",
    "plt.xlabel('Predicted', labelpad=15)\n",
    "plt.ylabel('True', labelpad=15)\n",
    "plt.title('Confusion Matrix (KNN FinBERT)', fontsize=16)\n",
    "plt.show()"
   ]
  },
  {
   "cell_type": "markdown",
   "id": "c5212f90",
   "metadata": {},
   "source": [
    "### 5.2. LSTM"
   ]
  },
  {
   "cell_type": "markdown",
   "id": "e14cd5b3",
   "metadata": {},
   "source": [
    "#### Word2Vec"
   ]
  },
  {
   "cell_type": "code",
   "execution_count": null,
   "id": "fe7de73f",
   "metadata": {},
   "outputs": [],
   "source": [
    "y_true_all, y_pred_all, lstm_history = eval_lstm_model(\n",
    "    X_train=X_train,\n",
    "    y_train=y_train,\n",
    "    skf=skf,\n",
    "    emb_method=\"word2vec\",\n",
    "    emb_model=w2v,\n",
    "    device='cpu'\n",
    ")"
   ]
  },
  {
   "cell_type": "code",
   "execution_count": null,
   "id": "d11b77e6",
   "metadata": {},
   "outputs": [],
   "source": [
    "print(\"Overall classification report across all folds:\\n\")\n",
    "print(classification_report(y_true_all, y_pred_all, digits=4, target_names=LABELS.keys()))"
   ]
  },
  {
   "cell_type": "code",
   "execution_count": null,
   "id": "962db486",
   "metadata": {},
   "outputs": [],
   "source": [
    "# Confusion matrix\n",
    "cm = confusion_matrix(y_true_all, y_pred_all)\n",
    "\n",
    "plt.figure(figsize=(6,5))\n",
    "sns.heatmap(cm, annot=True, fmt='d', cmap='Blues', xticklabels=LABELS.keys(), yticklabels=LABELS.keys())\n",
    "plt.xlabel('Predicted', labelpad=15)\n",
    "plt.ylabel('True', labelpad=15)\n",
    "plt.title('Confusion Matrix (LSTM Word2Vec)', fontsize=16)\n",
    "plt.show()"
   ]
  },
  {
   "cell_type": "code",
   "execution_count": null,
   "id": "991540ea",
   "metadata": {},
   "outputs": [],
   "source": [
    "df_list = []\n",
    "\n",
    "for fold_idx, history in enumerate(lstm_history):\n",
    "    df_fold = pd.DataFrame(history.history)\n",
    "    df_fold['epoch'] = range(1, len(df_fold) + 1)\n",
    "    df_fold['fold'] = fold_idx  # add fold index column\n",
    "    # Reorder columns so epoch and fold come first (optional)\n",
    "    cols = ['fold', 'epoch'] + [col for col in df_fold.columns if col not in ('fold', 'epoch')]\n",
    "    df_fold = df_fold[cols]\n",
    "    df_list.append(df_fold)\n",
    "\n",
    "# Concatenate all folds into a single DataFrame\n",
    "df_history = pd.concat(df_list, ignore_index=True)\n",
    "\n",
    "# Show head\n",
    "df_history.head()"
   ]
  },
  {
   "cell_type": "code",
   "execution_count": null,
   "id": "42530292",
   "metadata": {},
   "outputs": [],
   "source": [
    "plt.figure(figsize=(12, 8))\n",
    "\n",
    "epochs = sorted(df_history['epoch'].unique())\n",
    "train_means = []\n",
    "val_means = []\n",
    "train_stds = []\n",
    "val_stds = []\n",
    "\n",
    "for epoch in epochs:\n",
    "    epoch_data = df_history[df_history['epoch'] == epoch]\n",
    "    train_acc = epoch_data['accuracy']\n",
    "    val_acc = epoch_data['val_accuracy']\n",
    "    \n",
    "    train_means.append(train_acc.mean())\n",
    "    val_means.append(val_acc.mean())\n",
    "    train_stds.append(train_acc.std())\n",
    "    val_stds.append(val_acc.std())\n",
    "\n",
    "train_means = np.array(train_means)\n",
    "val_means = np.array(val_means)\n",
    "train_stds = np.array(train_stds)\n",
    "val_stds = np.array(val_stds)\n",
    "\n",
    "plt.plot(epochs, train_means, label='Train Mean Accuracy')\n",
    "plt.fill_between(epochs, train_means - train_stds, train_means + train_stds, alpha=0.2)\n",
    "\n",
    "plt.plot(epochs, val_means, label='Val Mean Accuracy')\n",
    "plt.fill_between(epochs, val_means - val_stds, val_means + val_stds, alpha=0.2)\n",
    "\n",
    "# Calculate min and max across both train and val means\n",
    "y_min = min(min(train_means), min(val_means)) - 0.1\n",
    "y_max = max(max(train_means), max(val_means)) + 0.1\n",
    "\n",
    "# Prevent y_min from going below 0\n",
    "y_min = max(y_min, 0)\n",
    "\n",
    "plt.ylim(y_min, y_max)\n",
    "\n",
    "plt.title('Mean Model Accuracy Across Folds')\n",
    "plt.xlabel('Epoch')\n",
    "plt.ylabel('Accuracy')\n",
    "plt.legend()\n",
    "plt.show()"
   ]
  },
  {
   "cell_type": "markdown",
   "id": "bcda7f3f",
   "metadata": {},
   "source": [
    "#### DistilBERT"
   ]
  },
  {
   "cell_type": "code",
   "execution_count": null,
   "id": "0a60c108",
   "metadata": {},
   "outputs": [],
   "source": [
    "y_true_all, y_pred_all, lstm_history = eval_lstm_model(\n",
    "    X_train=X_train,\n",
    "    y_train=y_train,\n",
    "    skf=skf,\n",
    "    emb_method=\"transformer\",\n",
    "    emb_model=AutoModel.from_pretrained(distilbert_model),\n",
    "    tokenizer=AutoTokenizer.from_pretrained(distilbert_model),\n",
    "    device='cuda'\n",
    ")"
   ]
  },
  {
   "cell_type": "code",
   "execution_count": null,
   "id": "745c72d4",
   "metadata": {},
   "outputs": [],
   "source": [
    "print(\"Overall classification report across all folds:\\n\")\n",
    "print(classification_report(y_true_all, y_pred_all, digits=4, target_names=LABELS.keys()))"
   ]
  },
  {
   "cell_type": "code",
   "execution_count": null,
   "id": "3bfa2056",
   "metadata": {},
   "outputs": [],
   "source": [
    "# Confusion matrix\n",
    "cm = confusion_matrix(y_true_all, y_pred_all)\n",
    "\n",
    "plt.figure(figsize=(6,5))\n",
    "sns.heatmap(cm, annot=True, fmt='d', cmap='Blues', xticklabels=LABELS.keys(), yticklabels=LABELS.keys())\n",
    "plt.xlabel('Predicted', labelpad=15)\n",
    "plt.ylabel('True', labelpad=15)\n",
    "plt.title('Confusion Matrix (LSTM Word2Vec)', fontsize=16)\n",
    "plt.show()"
   ]
  },
  {
   "cell_type": "code",
   "execution_count": null,
   "id": "7603478a",
   "metadata": {},
   "outputs": [],
   "source": [
    "df_list = []\n",
    "\n",
    "for fold_idx, history in enumerate(lstm_history):\n",
    "    df_fold = pd.DataFrame(history.history)\n",
    "    df_fold['epoch'] = range(1, len(df_fold) + 1)\n",
    "    df_fold['fold'] = fold_idx  # add fold index column\n",
    "    # Reorder columns so epoch and fold come first (optional)\n",
    "    cols = ['fold', 'epoch'] + [col for col in df_fold.columns if col not in ('fold', 'epoch')]\n",
    "    df_fold = df_fold[cols]\n",
    "    df_list.append(df_fold)\n",
    "\n",
    "# Concatenate all folds into a single DataFrame\n",
    "df_history = pd.concat(df_list, ignore_index=True)\n",
    "\n",
    "# Show head\n",
    "df_history.head()"
   ]
  },
  {
   "cell_type": "code",
   "execution_count": null,
   "id": "f646a0c0",
   "metadata": {},
   "outputs": [],
   "source": [
    "plt.figure(figsize=(12, 8))\n",
    "\n",
    "epochs = sorted(df_history['epoch'].unique())\n",
    "train_means = []\n",
    "val_means = []\n",
    "train_stds = []\n",
    "val_stds = []\n",
    "\n",
    "for epoch in epochs:\n",
    "    epoch_data = df_history[df_history['epoch'] == epoch]\n",
    "    train_acc = epoch_data['accuracy']\n",
    "    val_acc = epoch_data['val_accuracy']\n",
    "    \n",
    "    train_means.append(train_acc.mean())\n",
    "    val_means.append(val_acc.mean())\n",
    "    train_stds.append(train_acc.std())\n",
    "    val_stds.append(val_acc.std())\n",
    "\n",
    "train_means = np.array(train_means)\n",
    "val_means = np.array(val_means)\n",
    "train_stds = np.array(train_stds)\n",
    "val_stds = np.array(val_stds)\n",
    "\n",
    "plt.plot(epochs, train_means, label='Train Mean Accuracy')\n",
    "plt.fill_between(epochs, train_means - train_stds, train_means + train_stds, alpha=0.2)\n",
    "\n",
    "plt.plot(epochs, val_means, label='Val Mean Accuracy')\n",
    "plt.fill_between(epochs, val_means - val_stds, val_means + val_stds, alpha=0.2)\n",
    "\n",
    "# Calculate min and max across both train and val means\n",
    "y_min = min(min(train_means), min(val_means)) - 0.1\n",
    "y_max = max(max(train_means), max(val_means)) + 0.1\n",
    "\n",
    "# Prevent y_min from going below 0\n",
    "y_min = max(y_min, 0)\n",
    "\n",
    "plt.ylim(y_min, y_max)\n",
    "\n",
    "plt.title('Mean Model Accuracy Across Folds')\n",
    "plt.xlabel('Epoch')\n",
    "plt.ylabel('Accuracy')\n",
    "plt.legend()\n",
    "plt.show()"
   ]
  },
  {
   "cell_type": "markdown",
   "id": "7e705ee4",
   "metadata": {},
   "source": [
    "#### RoBERTa"
   ]
  },
  {
   "cell_type": "code",
   "execution_count": null,
   "id": "a845f924",
   "metadata": {},
   "outputs": [],
   "source": [
    "y_true_all, y_pred_all, lstm_history = eval_lstm_model(\n",
    "    X_train=X_train,\n",
    "    y_train=y_train,\n",
    "    skf=skf,\n",
    "    emb_method=\"transformer\",\n",
    "    emb_model=AutoModel.from_pretrained(roberta_model),\n",
    "    tokenizer=AutoTokenizer.from_pretrained(roberta_model),\n",
    "    device='cuda'\n",
    ")"
   ]
  },
  {
   "cell_type": "code",
   "execution_count": null,
   "id": "7e097704",
   "metadata": {},
   "outputs": [],
   "source": [
    "print(\"Overall classification report across all folds:\\n\")\n",
    "print(classification_report(y_true_all, y_pred_all, digits=4, target_names=LABELS.keys()))"
   ]
  },
  {
   "cell_type": "code",
   "execution_count": null,
   "id": "fdaaa3a4",
   "metadata": {},
   "outputs": [],
   "source": [
    "# Confusion matrix\n",
    "cm = confusion_matrix(y_true_all, y_pred_all)\n",
    "\n",
    "plt.figure(figsize=(6,5))\n",
    "sns.heatmap(cm, annot=True, fmt='d', cmap='Blues', xticklabels=LABELS.keys(), yticklabels=LABELS.keys())\n",
    "plt.xlabel('Predicted', labelpad=15)\n",
    "plt.ylabel('True', labelpad=15)\n",
    "plt.title('Confusion Matrix (LSTM Word2Vec)', fontsize=16)\n",
    "plt.show()"
   ]
  },
  {
   "cell_type": "code",
   "execution_count": null,
   "id": "48a308d7",
   "metadata": {},
   "outputs": [],
   "source": [
    "df_list = []\n",
    "\n",
    "for fold_idx, history in enumerate(lstm_history):\n",
    "    df_fold = pd.DataFrame(history.history)\n",
    "    df_fold['epoch'] = range(1, len(df_fold) + 1)\n",
    "    df_fold['fold'] = fold_idx  # add fold index column\n",
    "    # Reorder columns so epoch and fold come first (optional)\n",
    "    cols = ['fold', 'epoch'] + [col for col in df_fold.columns if col not in ('fold', 'epoch')]\n",
    "    df_fold = df_fold[cols]\n",
    "    df_list.append(df_fold)\n",
    "\n",
    "# Concatenate all folds into a single DataFrame\n",
    "df_history = pd.concat(df_list, ignore_index=True)\n",
    "\n",
    "# Show head\n",
    "df_history.head()"
   ]
  },
  {
   "cell_type": "code",
   "execution_count": null,
   "id": "e0a80058",
   "metadata": {},
   "outputs": [],
   "source": [
    "plt.figure(figsize=(12, 8))\n",
    "\n",
    "epochs = sorted(df_history['epoch'].unique())\n",
    "train_means = []\n",
    "val_means = []\n",
    "train_stds = []\n",
    "val_stds = []\n",
    "\n",
    "for epoch in epochs:\n",
    "    epoch_data = df_history[df_history['epoch'] == epoch]\n",
    "    train_acc = epoch_data['accuracy']\n",
    "    val_acc = epoch_data['val_accuracy']\n",
    "    \n",
    "    train_means.append(train_acc.mean())\n",
    "    val_means.append(val_acc.mean())\n",
    "    train_stds.append(train_acc.std())\n",
    "    val_stds.append(val_acc.std())\n",
    "\n",
    "train_means = np.array(train_means)\n",
    "val_means = np.array(val_means)\n",
    "train_stds = np.array(train_stds)\n",
    "val_stds = np.array(val_stds)\n",
    "\n",
    "plt.plot(epochs, train_means, label='Train Mean Accuracy')\n",
    "plt.fill_between(epochs, train_means - train_stds, train_means + train_stds, alpha=0.2)\n",
    "\n",
    "plt.plot(epochs, val_means, label='Val Mean Accuracy')\n",
    "plt.fill_between(epochs, val_means - val_stds, val_means + val_stds, alpha=0.2)\n",
    "\n",
    "# Calculate min and max across both train and val means\n",
    "y_min = min(min(train_means), min(val_means)) - 0.1\n",
    "y_max = max(max(train_means), max(val_means)) + 0.1\n",
    "\n",
    "# Prevent y_min from going below 0\n",
    "y_min = max(y_min, 0)\n",
    "\n",
    "plt.ylim(y_min, y_max)\n",
    "\n",
    "plt.title('Mean Model Accuracy Across Folds')\n",
    "plt.xlabel('Epoch')\n",
    "plt.ylabel('Accuracy')\n",
    "plt.legend()\n",
    "plt.show()"
   ]
  },
  {
   "cell_type": "markdown",
   "id": "9dac9a2e",
   "metadata": {},
   "source": [
    "#### FinBERT"
   ]
  },
  {
   "cell_type": "code",
   "execution_count": null,
   "id": "34510155",
   "metadata": {},
   "outputs": [],
   "source": [
    "y_true_all, y_pred_all, lstm_history = eval_lstm_model(\n",
    "    X_train=X_train,\n",
    "    y_train=y_train,\n",
    "    skf=skf,\n",
    "    emb_method=\"transformer\",\n",
    "    emb_model=AutoModel.from_pretrained(finbert_model),\n",
    "    tokenizer=AutoTokenizer.from_pretrained(finbert_model),\n",
    "    device='cuda'\n",
    ")"
   ]
  },
  {
   "cell_type": "code",
   "execution_count": null,
   "id": "c74ea5b0",
   "metadata": {},
   "outputs": [],
   "source": [
    "print(\"Overall classification report across all folds:\\n\")\n",
    "print(classification_report(y_true_all, y_pred_all, digits=4, target_names=LABELS.keys()))"
   ]
  },
  {
   "cell_type": "code",
   "execution_count": null,
   "id": "89ce1002",
   "metadata": {},
   "outputs": [],
   "source": [
    "# Confusion matrix\n",
    "cm = confusion_matrix(y_true_all, y_pred_all)\n",
    "\n",
    "plt.figure(figsize=(6,5))\n",
    "sns.heatmap(cm, annot=True, fmt='d', cmap='Blues', xticklabels=LABELS.keys(), yticklabels=LABELS.keys())\n",
    "plt.xlabel('Predicted', labelpad=15)\n",
    "plt.ylabel('True', labelpad=15)\n",
    "plt.title('Confusion Matrix (LSTM Word2Vec)', fontsize=16)\n",
    "plt.show()"
   ]
  },
  {
   "cell_type": "code",
   "execution_count": null,
   "id": "c57eb92e",
   "metadata": {},
   "outputs": [],
   "source": [
    "df_list = []\n",
    "\n",
    "for fold_idx, history in enumerate(lstm_history):\n",
    "    df_fold = pd.DataFrame(history.history)\n",
    "    df_fold['epoch'] = range(1, len(df_fold) + 1)\n",
    "    df_fold['fold'] = fold_idx  # add fold index column\n",
    "    # Reorder columns so epoch and fold come first (optional)\n",
    "    cols = ['fold', 'epoch'] + [col for col in df_fold.columns if col not in ('fold', 'epoch')]\n",
    "    df_fold = df_fold[cols]\n",
    "    df_list.append(df_fold)\n",
    "\n",
    "# Concatenate all folds into a single DataFrame\n",
    "df_history = pd.concat(df_list, ignore_index=True)\n",
    "\n",
    "# Show head\n",
    "df_history.head()"
   ]
  },
  {
   "cell_type": "code",
   "execution_count": null,
   "id": "cc80d82c",
   "metadata": {},
   "outputs": [],
   "source": [
    "plt.figure(figsize=(12, 8))\n",
    "\n",
    "epochs = sorted(df_history['epoch'].unique())\n",
    "train_means = []\n",
    "val_means = []\n",
    "train_stds = []\n",
    "val_stds = []\n",
    "\n",
    "for epoch in epochs:\n",
    "    epoch_data = df_history[df_history['epoch'] == epoch]\n",
    "    train_acc = epoch_data['accuracy']\n",
    "    val_acc = epoch_data['val_accuracy']\n",
    "    \n",
    "    train_means.append(train_acc.mean())\n",
    "    val_means.append(val_acc.mean())\n",
    "    train_stds.append(train_acc.std())\n",
    "    val_stds.append(val_acc.std())\n",
    "\n",
    "train_means = np.array(train_means)\n",
    "val_means = np.array(val_means)\n",
    "train_stds = np.array(train_stds)\n",
    "val_stds = np.array(val_stds)\n",
    "\n",
    "plt.plot(epochs, train_means, label='Train Mean Accuracy')\n",
    "plt.fill_between(epochs, train_means - train_stds, train_means + train_stds, alpha=0.2)\n",
    "\n",
    "plt.plot(epochs, val_means, label='Val Mean Accuracy')\n",
    "plt.fill_between(epochs, val_means - val_stds, val_means + val_stds, alpha=0.2)\n",
    "\n",
    "# Calculate min and max across both train and val means\n",
    "y_min = min(min(train_means), min(val_means)) - 0.1\n",
    "y_max = max(max(train_means), max(val_means)) + 0.1\n",
    "\n",
    "# Prevent y_min from going below 0\n",
    "y_min = max(y_min, 0)\n",
    "\n",
    "plt.ylim(y_min, y_max)\n",
    "\n",
    "plt.title('Mean Model Accuracy Across Folds')\n",
    "plt.xlabel('Epoch')\n",
    "plt.ylabel('Accuracy')\n",
    "plt.legend()\n",
    "plt.show()"
   ]
  },
  {
   "cell_type": "markdown",
   "id": "61336e89",
   "metadata": {},
   "source": [
    "### 5.3. RoBERTa Encoder"
   ]
  },
  {
   "cell_type": "code",
   "execution_count": null,
   "id": "75729bee",
   "metadata": {},
   "outputs": [],
   "source": [
    "# Evaluate the model\n",
    "y_true_all, y_pred_all = eval_transformer(\n",
    "    transformer=roberta_model\n",
    "    ,objective='sentiment-analysis'\n",
    "    ,skf=skf\n",
    "    ,X_train=X_train\n",
    "    ,y_train=y_train\n",
    ")"
   ]
  },
  {
   "cell_type": "code",
   "execution_count": null,
   "id": "9f74ce28",
   "metadata": {},
   "outputs": [],
   "source": [
    "print(\"Overall classification report across all folds:\\n\")\n",
    "print(classification_report(y_true_all, y_pred_all, digits=4, target_names=LABELS.keys()))"
   ]
  },
  {
   "cell_type": "code",
   "execution_count": null,
   "id": "5c6bb74c",
   "metadata": {},
   "outputs": [],
   "source": [
    "# Confusion matrix\n",
    "cm = confusion_matrix(y_true_all, y_pred_all)\n",
    "\n",
    "plt.figure(figsize=(6,5))\n",
    "sns.heatmap(cm, annot=True, fmt='d', cmap='Blues', xticklabels=LABELS.keys(), yticklabels=LABELS.keys())\n",
    "plt.xlabel('Predicted', labelpad=15)\n",
    "plt.ylabel('True', labelpad=15)\n",
    "plt.title('Confusion Matrix (RoBERTa)', fontsize=16)\n",
    "plt.show()"
   ]
  },
  {
   "cell_type": "markdown",
   "id": "cecdb593",
   "metadata": {},
   "source": [
    "### 5.4. FinBERT Encoder"
   ]
  },
  {
   "cell_type": "code",
   "execution_count": null,
   "id": "1b6a45fd",
   "metadata": {},
   "outputs": [],
   "source": [
    "# Evaluate the model\n",
    "y_true_all, y_pred_all = eval_transformer(\n",
    "    transformer=finbert_model\n",
    "    ,objective='sentiment-analysis'\n",
    "    ,skf=skf\n",
    "    ,X_train=X_train\n",
    "    ,y_train=y_train\n",
    ")"
   ]
  },
  {
   "cell_type": "code",
   "execution_count": null,
   "id": "460917f2",
   "metadata": {},
   "outputs": [],
   "source": [
    "print(\"Overall classification report across all folds:\\n\")\n",
    "print(classification_report(y_true_all, y_pred_all, digits=4, target_names=LABELS.keys()))"
   ]
  },
  {
   "cell_type": "code",
   "execution_count": null,
   "id": "bca4af6b",
   "metadata": {},
   "outputs": [],
   "source": [
    "# Confusion matrix\n",
    "cm = confusion_matrix(y_true_all, y_pred_all)\n",
    "\n",
    "plt.figure(figsize=(6,5))\n",
    "sns.heatmap(cm, annot=True, fmt='d', cmap='Blues', xticklabels=LABELS.keys(), yticklabels=LABELS.keys())\n",
    "plt.xlabel('Predicted', labelpad=15)\n",
    "plt.ylabel('True', labelpad=15)\n",
    "plt.title('Confusion Matrix (FinBERT)', fontsize=16)\n",
    "plt.show()"
   ]
  },
  {
   "cell_type": "markdown",
   "id": "a3c8aeaa",
   "metadata": {},
   "source": [
    "### 5.5. Language Model"
   ]
  },
  {
   "cell_type": "code",
   "execution_count": null,
   "id": "016cad4a",
   "metadata": {},
   "outputs": [],
   "source": [
    "system_message = \"\"\"\n",
    "You are a helpful assistant that performs sentiment analysis.\n",
    "\n",
    "Your task is to analyze the overall sentiment of a given sentence or text.\n",
    "\n",
    "For each input, classify the sentiment as one of the following single digits ONLY:\n",
    "- 0: Bearish (negative sentiment)\n",
    "- 1: Bullish (positive sentiment)\n",
    "- 2: Neutral sentiment\n",
    "\n",
    "Respond ONLY with a single digit (0, 1, or 2), with no extra text or explanation.\n",
    "\n",
    "Examples:\n",
    "- 'JPMorgan reels in expectations on Beyond Meat' → 0\n",
    "- 'Dougherty & Company starts at Buy' → 1\n",
    "- 'Analysts React To FCC Decision On Intelsat C-Band Spectrum Auction' → 2\n",
    "\"\"\""
   ]
  },
  {
   "cell_type": "code",
   "execution_count": null,
   "id": "8ccd7756",
   "metadata": {},
   "outputs": [],
   "source": [
    "# Evaluate the model\n",
    "y_true_all, y_pred_all = eval_llm_model(\n",
    "    model=\"tiiuae/falcon-7b-instruct\"\n",
    "    ,skf=skf\n",
    "    ,X_train=X_train\n",
    "    ,y_train=y_train\n",
    "    ,system_message=system_message\n",
    ")"
   ]
  },
  {
   "cell_type": "code",
   "execution_count": null,
   "id": "70bad47d",
   "metadata": {},
   "outputs": [],
   "source": [
    "print(\"Overall classification report across all folds:\\n\")\n",
    "print(classification_report(y_true_all, y_pred_all, digits=4, target_names=LABELS.keys()))"
   ]
  },
  {
   "cell_type": "code",
   "execution_count": null,
   "id": "88323449",
   "metadata": {},
   "outputs": [],
   "source": [
    "# Confusion matrix\n",
    "cm = confusion_matrix(y_true_all, y_pred_all)\n",
    "\n",
    "plt.figure(figsize=(6,5))\n",
    "sns.heatmap(cm, annot=True, fmt='d', cmap='Blues', xticklabels=LABELS.keys(), yticklabels=LABELS.keys())\n",
    "plt.xlabel('Predicted', labelpad=15)\n",
    "plt.ylabel('True', labelpad=15)\n",
    "plt.title('Confusion Matrix (Language Model)', fontsize=16)\n",
    "plt.show()"
   ]
  },
  {
   "cell_type": "code",
   "execution_count": null,
   "id": "43a3dde2",
   "metadata": {},
   "outputs": [],
   "source": [
    "# TODO: Review code; Complete aux_funcs.py 'analyze_sentiment'; Implement extra feature engineering (for extra points); Implement extra classification model"
   ]
  }
 ],
 "metadata": {
  "kernelspec": {
   "display_name": "tm",
   "language": "python",
   "name": "python3"
  },
  "language_info": {
   "codemirror_mode": {
    "name": "ipython",
    "version": 3
   },
   "file_extension": ".py",
   "mimetype": "text/x-python",
   "name": "python",
   "nbconvert_exporter": "python",
   "pygments_lexer": "ipython3",
   "version": "3.12.9"
  }
 },
 "nbformat": 4,
 "nbformat_minor": 5
}
