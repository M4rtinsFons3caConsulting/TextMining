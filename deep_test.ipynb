{
 "cells": [
  {
   "cell_type": "code",
   "execution_count": 1,
   "id": "7207cbea",
   "metadata": {},
   "outputs": [
    {
     "name": "stderr",
     "output_type": "stream",
     "text": [
      "/home/nottoriousgg/miniconda3/envs/tm/lib/python3.12/site-packages/tqdm/auto.py:21: TqdmWarning: IProgress not found. Please update jupyter and ipywidgets. See https://ipywidgets.readthedocs.io/en/stable/user_install.html\n",
      "  from .autonotebook import tqdm as notebook_tqdm\n",
      "2025-06-14 16:14:02.142055: I tensorflow/core/util/port.cc:153] oneDNN custom operations are on. You may see slightly different numerical results due to floating-point round-off errors from different computation orders. To turn them off, set the environment variable `TF_ENABLE_ONEDNN_OPTS=0`.\n",
      "2025-06-14 16:14:02.270102: E external/local_xla/xla/stream_executor/cuda/cuda_fft.cc:467] Unable to register cuFFT factory: Attempting to register factory for plugin cuFFT when one has already been registered\n",
      "WARNING: All log messages before absl::InitializeLog() is called are written to STDERR\n",
      "E0000 00:00:1749914042.312060    9653 cuda_dnn.cc:8579] Unable to register cuDNN factory: Attempting to register factory for plugin cuDNN when one has already been registered\n",
      "E0000 00:00:1749914042.327470    9653 cuda_blas.cc:1407] Unable to register cuBLAS factory: Attempting to register factory for plugin cuBLAS when one has already been registered\n",
      "W0000 00:00:1749914042.431288    9653 computation_placer.cc:177] computation placer already registered. Please check linkage and avoid linking the same target more than once.\n",
      "W0000 00:00:1749914042.431309    9653 computation_placer.cc:177] computation placer already registered. Please check linkage and avoid linking the same target more than once.\n",
      "W0000 00:00:1749914042.431310    9653 computation_placer.cc:177] computation placer already registered. Please check linkage and avoid linking the same target more than once.\n",
      "W0000 00:00:1749914042.431311    9653 computation_placer.cc:177] computation placer already registered. Please check linkage and avoid linking the same target more than once.\n",
      "2025-06-14 16:14:02.441885: I tensorflow/core/platform/cpu_feature_guard.cc:210] This TensorFlow binary is optimized to use available CPU instructions in performance-critical operations.\n",
      "To enable the following instructions: AVX2 AVX_VNNI FMA, in other operations, rebuild TensorFlow with the appropriate compiler flags.\n",
      "Loading checkpoint shards: 100%|██████████| 2/2 [00:00<00:00, 36.24it/s]\n"
     ]
    }
   ],
   "source": [
    "from transformers import AutoTokenizer, AutoModelForCausalLM\n",
    "\n",
    "model_id = \"deepseek-ai/DeepSeek-R1-Distill-Qwen-7B\"\n",
    "tokenizer = AutoTokenizer.from_pretrained(model_id)\n",
    "model = AutoModelForCausalLM.from_pretrained(model_id, torch_dtype=\"auto\")"
   ]
  },
  {
   "cell_type": "code",
   "execution_count": 19,
   "id": "fc27b630",
   "metadata": {},
   "outputs": [
    {
     "name": "stderr",
     "output_type": "stream",
     "text": [
      "Setting `pad_token_id` to `eos_token_id`:151643 for open-end generation.\n"
     ]
    },
    {
     "name": "stdout",
     "output_type": "stream",
     "text": [
      "<｜begin▁of▁sentence｜>\n",
      "    You are a helpful assistant that performs sentiment analysis.\n",
      "\n",
      "    Your task is to analyze the overall sentiment of a given sentence or text.\n",
      "\n",
      "    For each input, classify the sentiment as one of the following single digits ONLY:\n",
      "    - 0: Bearish (negative sentiment)\n",
      "    - 1: Bullish (positive sentiment)\n",
      "    - 2: Neutral sentiment\n",
      "\n",
      "    Examples:\n",
      "    - 'JPMorgan reels in expectations on Beyond Meat' → 0\n",
      "    - 'Dougherty & Company starts at Buy' → 1\n",
      "    - 'Analysts React To FCC Decision On Intelsat C-Band Spectrum Auction' → 2\n",
      "\n",
      "    Targets:\n",
      "    input_1: 'Analysts claim stock market poised to reach an all time high'\n",
      "    input_2: 'Fed Reserve to be tested later this month on core CPI data.'\n",
      "    input_3: 'CAN surges past expectations, long bull expected'    \n",
      "\n",
      "    Provide answers to each of the inputs input_1, input_2 and input_3.\n",
      "    Respond ONLY with a single digit (0, 1, or 2), with no extra text or explanation, for each of the inputs.\n",
      "</think>\n",
      "\n",
      "1\n",
      "0\n",
      "2<｜end▁of▁sentence｜>\n"
     ]
    }
   ],
   "source": [
    "inputs = tokenizer(\n",
    "   \"\"\"\n",
    "    You are a helpful assistant that performs sentiment analysis.\n",
    "\n",
    "    Your task is to analyze the overall sentiment of a given sentence or text.\n",
    "\n",
    "    For each input, classify the sentiment as one of the following single digits ONLY:\n",
    "    - 0: Bearish (negative sentiment)\n",
    "    - 1: Bullish (positive sentiment)\n",
    "    - 2: Neutral sentiment\n",
    "\n",
    "    Examples:\n",
    "    - 'JPMorgan reels in expectations on Beyond Meat' → 0\n",
    "    - 'Dougherty & Company starts at Buy' → 1\n",
    "    - 'Analysts React To FCC Decision On Intelsat C-Band Spectrum Auction' → 2\n",
    "\n",
    "    Targets:\n",
    "    input_1: 'Analysts claim stock market poised to reach an all time high'\n",
    "    input_2: 'Fed Reserve to be tested later this month on core CPI data.'\n",
    "    input_3: 'CAN surges past expectations, long bull expected'    \n",
    "\n",
    "    Provide answers to each of the inputs input_1, input_2 and input_3.\n",
    "    Respond ONLY with a single digit (0, 1, or 2), with no extra text or explanation, for each of the inputs.\n",
    "\"\"\"\n",
    "    , return_tensors=\"pt\")\n",
    "out = model.generate(**inputs, max_new_tokens=20)\n",
    "print(tokenizer.decode(out[0]))"
   ]
  }
 ],
 "metadata": {
  "kernelspec": {
   "display_name": "tm",
   "language": "python",
   "name": "python3"
  },
  "language_info": {
   "codemirror_mode": {
    "name": "ipython",
    "version": 3
   },
   "file_extension": ".py",
   "mimetype": "text/x-python",
   "name": "python",
   "nbconvert_exporter": "python",
   "pygments_lexer": "ipython3",
   "version": "3.12.11"
  }
 },
 "nbformat": 4,
 "nbformat_minor": 5
}
