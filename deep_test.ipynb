{
 "cells": [
  {
   "cell_type": "code",
   "execution_count": 3,
   "id": "7207cbea",
   "metadata": {},
   "outputs": [
    {
     "name": "stderr",
     "output_type": "stream",
     "text": [
      "Loading checkpoint shards: 100%|██████████| 2/2 [00:00<00:00, 15.59it/s]\n"
     ]
    }
   ],
   "source": [
    "from transformers import AutoTokenizer, AutoModelForCausalLM\n",
    "\n",
    "model_id = \"deepseek-ai/DeepSeek-R1-Distill-Qwen-7B\"\n",
    "tokenizer = AutoTokenizer.from_pretrained(model_id)\n",
    "model = AutoModelForCausalLM.from_pretrained(model_id, torch_dtype=\"auto\")"
   ]
  },
  {
   "cell_type": "code",
   "execution_count": 19,
   "id": "fc27b630",
   "metadata": {},
   "outputs": [
    {
     "name": "stderr",
     "output_type": "stream",
     "text": [
      "Setting `pad_token_id` to `eos_token_id`:151643 for open-end generation.\n"
     ]
    },
    {
     "name": "stdout",
     "output_type": "stream",
     "text": [
      "<｜begin▁of▁sentence｜>\n",
      "    You are a helpful assistant that performs sentiment analysis.\n",
      "\n",
      "    Your task is to analyze the overall sentiment of a given sentence or text.\n",
      "\n",
      "    For each input, classify the sentiment as one of the following single digits ONLY:\n",
      "    - 0: Bearish (negative sentiment)\n",
      "    - 1: Bullish (positive sentiment)\n",
      "    - 2: Neutral sentiment\n",
      "\n",
      "    Examples:\n",
      "    - 'JPMorgan reels in expectations on Beyond Meat' → 0\n",
      "    - 'Dougherty & Company starts at Buy' → 1\n",
      "    - 'Analysts React To FCC Decision On Intelsat C-Band Spectrum Auction' → 2\n",
      "\n",
      "    Targets:\n",
      "    input_1: 'Analysts claim stock market poised to reach an all time high'\n",
      "    input_2: 'Fed Reserve to be tested later this month on core CPI data.'\n",
      "    input_3: 'CAN surges past expectations, long bull expected'    \n",
      "\n",
      "    Provide answers to each of the inputs input_1, input_2 and input_3.\n",
      "    Respond ONLY with a single digit (0, 1, or 2), with no extra text or explanation, for each of the inputs.\n",
      "</think>\n",
      "\n",
      "1\n",
      "0\n",
      "2<｜end▁of▁sentence｜>\n"
     ]
    }
   ],
   "source": [
    "inputs = tokenizer(\n",
    "   \"\"\"\n",
    "    You are a helpful assistant that performs sentiment analysis.\n",
    "\n",
    "    Your task is to analyze the overall sentiment of a given sentence or text.\n",
    "\n",
    "    For each input, classify the sentiment as one of the following single digits ONLY:\n",
    "    - 0: Bearish (negative sentiment)\n",
    "    - 1: Bullish (positive sentiment)\n",
    "    - 2: Neutral sentiment\n",
    "\n",
    "    Examples:\n",
    "    - 'JPMorgan reels in expectations on Beyond Meat' → 0\n",
    "    - 'Dougherty & Company starts at Buy' → 1\n",
    "    - 'Analysts React To FCC Decision On Intelsat C-Band Spectrum Auction' → 2\n",
    "\n",
    "    Targets:\n",
    "    input_1: 'Analysts claim stock market poised to reach an all time high'\n",
    "    input_2: 'Fed Reserve to be tested later this month on core CPI data.'\n",
    "    input_3: 'CAN surges past expectations, long bull expected'    \n",
    "\n",
    "    Provide answers to each of the inputs input_1, input_2 and input_3.\n",
    "    Respond ONLY with a single digit (0, 1, or 2), with no extra text or explanation, for each of the inputs.\n",
    "\"\"\"\n",
    "    , return_tensors=\"pt\")\n",
    "out = model.generate(**inputs, max_new_tokens=20)\n",
    "print(tokenizer.decode(out[0]))"
   ]
  }
 ],
 "metadata": {
  "kernelspec": {
   "display_name": "tm",
   "language": "python",
   "name": "python3"
  },
  "language_info": {
   "codemirror_mode": {
    "name": "ipython",
    "version": 3
   },
   "file_extension": ".py",
   "mimetype": "text/x-python",
   "name": "python",
   "nbconvert_exporter": "python",
   "pygments_lexer": "ipython3",
   "version": "3.12.11"
  }
 },
 "nbformat": 4,
 "nbformat_minor": 5
}
